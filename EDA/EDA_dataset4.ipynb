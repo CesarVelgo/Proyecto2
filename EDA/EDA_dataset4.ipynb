{
 "cells": [
  {
   "cell_type": "code",
   "execution_count": 1,
   "metadata": {},
   "outputs": [],
   "source": [
    "import pandas as pd\n",
    "import matplotlib.pyplot as plt\n",
    "import seaborn as sns"
   ]
  },
  {
   "cell_type": "code",
   "execution_count": 3,
   "metadata": {},
   "outputs": [
    {
     "data": {
      "text/plain": [
       "(25000, 7)"
      ]
     },
     "execution_count": 3,
     "metadata": {},
     "output_type": "execute_result"
    }
   ],
   "source": [
    "ruta='../datasets/Profile of Body Metrics and Fashion Colors.csv'\n",
    "df = pd.read_csv(filepath_or_buffer=ruta, sep=';')\n",
    "df.shape"
   ]
  },
  {
   "cell_type": "markdown",
   "metadata": {},
   "source": [
    "## 1. Descripción del Conjunto de Datos\n",
    "* Breve descripción de cada conjunto de datos, incluyendo la fuente, el tamaño y las variables."
   ]
  },
  {
   "cell_type": "markdown",
   "metadata": {},
   "source": [
    "* Fuente: Este conjunto de datos sobre características físicas y de apariencia de personas, específicamente con medidas físicas como altura (en centímetros), peso (en kilogramos), y categorías relacionadas con su estado físico, como el índice de masa corporal (BMI). Además, incluye atributos sobre el color de la piel, ropa y pantalones, representados en formato RGB .\n",
    "* Height (Centimeter): Altura en centímetros.\n",
    "* Weight (Kilograms): Peso en kilogramos.\n",
    "* Gender: Género de la persona (probablemente \"Male\" o \"Female\").\n",
    "* BMI: Índice de Masa Corporal (Body Mass Index). Puede tener valores como \"Underweight\", \"Ideal\", \"Overweight\", etc.\n",
    "* Skin Color: Color de piel, representado como un valor RGB (Red, Green, Blue).\n",
    "* Clothes Color: Color de la ropa, representado también en formato RGB.\n",
    "* Pants Color: Color de los pantalones, representado igualmente en formato RGB.\n",
    "\n",
    "*Tamaño del Conjunto de Datos: Número de Filas: 25000 - Número de Columnas: 7"
   ]
  },
  {
   "cell_type": "code",
   "execution_count": 4,
   "metadata": {},
   "outputs": [
    {
     "name": "stdout",
     "output_type": "stream",
     "text": [
      "<class 'pandas.core.frame.DataFrame'>\n",
      "RangeIndex: 25000 entries, 0 to 24999\n",
      "Data columns (total 7 columns):\n",
      " #   Column              Non-Null Count  Dtype  \n",
      "---  ------              --------------  -----  \n",
      " 0   Height(Centimeter)  25000 non-null  float64\n",
      " 1   Weight(Kilograms)   25000 non-null  float64\n",
      " 2   Gender              25000 non-null  object \n",
      " 3   BMI                 25000 non-null  object \n",
      " 4   Skin Color          25000 non-null  object \n",
      " 5   Clothes Color       25000 non-null  object \n",
      " 6   Pants Color         25000 non-null  object \n",
      "dtypes: float64(2), object(5)\n",
      "memory usage: 1.3+ MB\n"
     ]
    }
   ],
   "source": [
    "df.info()"
   ]
  },
  {
   "cell_type": "markdown",
   "metadata": {},
   "source": [
    "## 2. Análisis Estadístico Descriptivo\n",
    "* Calcular estadísticas descriptivas básicas (media, mediana, desviación estándar, etc.) para las variables numéricas.\n",
    "* Analizar la distribución de las variables categóricas."
   ]
  },
  {
   "cell_type": "code",
   "execution_count": 6,
   "metadata": {},
   "outputs": [
    {
     "data": {
      "text/html": [
       "<div>\n",
       "<style scoped>\n",
       "    .dataframe tbody tr th:only-of-type {\n",
       "        vertical-align: middle;\n",
       "    }\n",
       "\n",
       "    .dataframe tbody tr th {\n",
       "        vertical-align: top;\n",
       "    }\n",
       "\n",
       "    .dataframe thead th {\n",
       "        text-align: right;\n",
       "    }\n",
       "</style>\n",
       "<table border=\"1\" class=\"dataframe\">\n",
       "  <thead>\n",
       "    <tr style=\"text-align: right;\">\n",
       "      <th></th>\n",
       "      <th>Height(Centimeter)</th>\n",
       "      <th>Weight(Kilograms)</th>\n",
       "    </tr>\n",
       "  </thead>\n",
       "  <tbody>\n",
       "    <tr>\n",
       "      <th>count</th>\n",
       "      <td>25000.000000</td>\n",
       "      <td>25000.000000</td>\n",
       "    </tr>\n",
       "    <tr>\n",
       "      <th>mean</th>\n",
       "      <td>172.702509</td>\n",
       "      <td>57.642209</td>\n",
       "    </tr>\n",
       "    <tr>\n",
       "      <th>std</th>\n",
       "      <td>4.830264</td>\n",
       "      <td>5.289290</td>\n",
       "    </tr>\n",
       "    <tr>\n",
       "      <th>min</th>\n",
       "      <td>153.107034</td>\n",
       "      <td>35.386871</td>\n",
       "    </tr>\n",
       "    <tr>\n",
       "      <th>25%</th>\n",
       "      <td>169.429170</td>\n",
       "      <td>54.117461</td>\n",
       "    </tr>\n",
       "    <tr>\n",
       "      <th>50%</th>\n",
       "      <td>172.709078</td>\n",
       "      <td>57.677738</td>\n",
       "    </tr>\n",
       "    <tr>\n",
       "      <th>75%</th>\n",
       "      <td>175.953312</td>\n",
       "      <td>61.186318</td>\n",
       "    </tr>\n",
       "    <tr>\n",
       "      <th>max</th>\n",
       "      <td>190.888112</td>\n",
       "      <td>77.529759</td>\n",
       "    </tr>\n",
       "  </tbody>\n",
       "</table>\n",
       "</div>"
      ],
      "text/plain": [
       "       Height(Centimeter)  Weight(Kilograms)\n",
       "count        25000.000000       25000.000000\n",
       "mean           172.702509          57.642209\n",
       "std              4.830264           5.289290\n",
       "min            153.107034          35.386871\n",
       "25%            169.429170          54.117461\n",
       "50%            172.709078          57.677738\n",
       "75%            175.953312          61.186318\n",
       "max            190.888112          77.529759"
      ]
     },
     "execution_count": 6,
     "metadata": {},
     "output_type": "execute_result"
    }
   ],
   "source": [
    "df.describe()"
   ]
  },
  {
   "cell_type": "code",
   "execution_count": 12,
   "metadata": {},
   "outputs": [
    {
     "name": "stdout",
     "output_type": "stream",
     "text": [
      "0     RGB(19, 165, 16)\n",
      "1    RGB(55, 238, 252)\n",
      "2     RGB(58, 67, 207)\n",
      "3     RGB(29, 140, 46)\n",
      "4    RGB(200, 235, 99)\n",
      "Name: Clothes Color, dtype: object\n",
      "0     RGB(24, 212, 123)\n",
      "1    RGB(101, 131, 136)\n",
      "2      RGB(27, 41, 168)\n",
      "3      RGB(71, 123, 25)\n",
      "4    RGB(122, 118, 117)\n",
      "Name: Pants Color, dtype: object\n"
     ]
    }
   ],
   "source": [
    "# Visualización de los valores de \"Clothes Color\" y \"Pants Color\"\n",
    "clothes_colors = df['Clothes Color'].apply(lambda x: f'RGB{str(x)}')\n",
    "pants_colors = df['Pants Color'].apply(lambda x: f'RGB{str(x)}')\n",
    "\n",
    "# Mostrar una muestra de Clothes Color y Pants Color\n",
    "print(clothes_colors.head())\n",
    "print(pants_colors.head())"
   ]
  },
  {
   "cell_type": "markdown",
   "metadata": {},
   "source": [
    "## 3. Visualizaciones:\n",
    "* Crear visualizaciones para entender la distribución de las variables (histogramas, gráficos de barras, box plots, etc.).\n",
    "* Visualizar las correlaciones entre variables (mapa de calor de correlación)."
   ]
  },
  {
   "cell_type": "code",
   "execution_count": 14,
   "metadata": {},
   "outputs": [
    {
     "name": "stderr",
     "output_type": "stream",
     "text": [
      "/tmp/ipykernel_15701/2853269595.py:3: FutureWarning: \n",
      "\n",
      "Passing `palette` without assigning `hue` is deprecated and will be removed in v0.14.0. Assign the `x` variable to `hue` and set `legend=False` for the same effect.\n",
      "\n",
      "  sns.countplot(x='Gender', data=df, palette='Set2')\n"
     ]
    },
    {
     "data": {
      "image/png": "[encoded data removed]",
      "text/plain": [
       "<Figure size 600x400 with 1 Axes>"
      ]
     },
     "metadata": {},
     "output_type": "display_data"
    }
   ],
   "source": [
    "# Gráfico de barras para la distribución de \"Gender\"\n",
    "plt.figure(figsize=(6, 4))\n",
    "sns.countplot(x='Gender', data=df, palette='Set2')\n",
    "plt.title('Distribución de Género')\n",
    "plt.xlabel('Género')\n",
    "plt.ylabel('Frecuencia')\n",
    "plt.show()"
   ]
  },
  {
   "cell_type": "code",
   "execution_count": 15,
   "metadata": {},
   "outputs": [
    {
     "name": "stderr",
     "output_type": "stream",
     "text": [
      "/tmp/ipykernel_15701/2544116339.py:3: FutureWarning: \n",
      "\n",
      "Passing `palette` without assigning `hue` is deprecated and will be removed in v0.14.0. Assign the `x` variable to `hue` and set `legend=False` for the same effect.\n",
      "\n",
      "  sns.countplot(x='BMI', data=df, palette='Set3')\n"
     ]
    },
    {
     "data": {
      "image/png": "[encoded data removed]",
      "text/plain": [
       "<Figure size 600x400 with 1 Axes>"
      ]
     },
     "metadata": {},
     "output_type": "display_data"
    }
   ],
   "source": [
    "# Gráfico de barras para la distribución de \"BMI\"\n",
    "plt.figure(figsize=(6, 4))\n",
    "sns.countplot(x='BMI', data=df, palette='Set3')\n",
    "plt.title('Distribución de BMI')\n",
    "plt.xlabel('Categoría de BMI')\n",
    "plt.ylabel('Frecuencia')\n",
    "plt.show()"
   ]
  },
  {
   "cell_type": "code",
   "execution_count": 31,
   "metadata": {},
   "outputs": [
    {
     "data": {
      "image/png": "[encoded data removed]",
      "text/plain": [
       "<Figure size 600x400 with 1 Axes>"
      ]
     },
     "metadata": {},
     "output_type": "display_data"
    }
   ],
   "source": [
    "# Boxplot para \"Weight (Kilograms)\"\n",
    "plt.figure(figsize=(6, 4))\n",
    "sns.boxplot(x=df['Weight(Kilograms)'], color='orange')\n",
    "plt.title('Boxplot de Peso')\n",
    "plt.xlabel('Peso (Kilogramos)')\n",
    "plt.show()\n"
   ]
  },
  {
   "cell_type": "markdown",
   "metadata": {},
   "source": [
    "## 4. Identificación de Valores Nulos y Outliers\n",
    "* Detectar valores nulos y discutir cómo podrían ser tratados.\n",
    "* Identificar outliers y evaluar su impacto potencial en el análisis"
   ]
  },
  {
   "cell_type": "code",
   "execution_count": 17,
   "metadata": {},
   "outputs": [
    {
     "data": {
      "text/plain": [
       "Height(Centimeter)    0\n",
       "Weight(Kilograms)     0\n",
       "Gender                0\n",
       "BMI                   0\n",
       "Skin Color            0\n",
       "Clothes Color         0\n",
       "Pants Color           0\n",
       "dtype: int64"
      ]
     },
     "execution_count": 17,
     "metadata": {},
     "output_type": "execute_result"
    }
   ],
   "source": [
    "df.isnull().sum()"
   ]
  },
  {
   "cell_type": "code",
   "execution_count": 18,
   "metadata": {},
   "outputs": [
    {
     "data": {
      "text/plain": [
       "(25000, 7)"
      ]
     },
     "execution_count": 18,
     "metadata": {},
     "output_type": "execute_result"
    }
   ],
   "source": [
    "# eliminamos las filas que contengan valores nulos en todas las columnas\n",
    "df_cleaned = df.dropna(how='all')\n",
    "df_cleaned.shape"
   ]
  },
  {
   "cell_type": "code",
   "execution_count": 19,
   "metadata": {},
   "outputs": [
    {
     "data": {
      "text/plain": [
       "Height(Centimeter)    0\n",
       "Weight(Kilograms)     0\n",
       "Gender                0\n",
       "BMI                   0\n",
       "Skin Color            0\n",
       "Clothes Color         0\n",
       "Pants Color           0\n",
       "dtype: int64"
      ]
     },
     "execution_count": 19,
     "metadata": {},
     "output_type": "execute_result"
    }
   ],
   "source": [
    "df_cleaned.isnull().sum()"
   ]
  },
  {
   "cell_type": "code",
   "execution_count": 21,
   "metadata": {},
   "outputs": [
    {
     "data": {
      "image/png": "[encoded data removed]",
      "text/plain": [
       "<Figure size 600x400 with 1 Axes>"
      ]
     },
     "metadata": {},
     "output_type": "display_data"
    }
   ],
   "source": [
    "plt.figure(figsize=(6, 4))\n",
    "sns.boxplot(x=df['Height(Centimeter)'], color='purple')\n",
    "plt.title('Boxplot de Altura (Centímetros)')\n",
    "plt.xlabel('Altura (Centímetros)')\n",
    "plt.show()\n"
   ]
  },
  {
   "cell_type": "code",
   "execution_count": 23,
   "metadata": {},
   "outputs": [
    {
     "data": {
      "image/png": "[encoded data removed]",
      "text/plain": [
       "<Figure size 600x400 with 1 Axes>"
      ]
     },
     "metadata": {},
     "output_type": "display_data"
    }
   ],
   "source": [
    "plt.figure(figsize=(6, 4))\n",
    "sns.boxplot(x=df['Weight(Kilograms)'], color='orange')\n",
    "plt.title('Boxplot de Peso (Kilogramos)')\n",
    "plt.xlabel('Peso (Kilogramos)')\n",
    "plt.show()\n"
   ]
  },
  {
   "cell_type": "code",
   "execution_count": null,
   "metadata": {},
   "outputs": [],
   "source": [
    "# Scatterplot entre 'ons' y 'offs'\n",
    "sns.scatterplot(x=df['ons'], y=df['offs'])\n",
    "plt.title('Scatterplot de \"ons\" vs \"offs\"')\n",
    "plt.show()"
   ]
  },
  {
   "cell_type": "code",
   "execution_count": 26,
   "metadata": {},
   "outputs": [
    {
     "name": "stdout",
     "output_type": "stream",
     "text": [
      "Outliers de Altura:\n",
      "       Height(Centimeter)  Weight(Kilograms)\n",
      "138            187.708718          68.669883\n",
      "174            187.537446          63.184594\n",
      "269            186.102549          59.086527\n",
      "412            157.522316          49.479993\n",
      "1133           159.385991          51.931748\n",
      "...                   ...                ...\n",
      "23896          186.386648          69.997818\n",
      "24078          185.981518          62.022356\n",
      "24244          158.153049          47.234712\n",
      "24475          159.222211          53.796102\n",
      "24801          189.310696          67.544566\n",
      "\n",
      "[167 rows x 2 columns]\n"
     ]
    }
   ],
   "source": [
    "# Cálculo de los cuartiles y el IQR para \"Height\"\n",
    "Q1_height = df['Height(Centimeter)'].quantile(0.25)\n",
    "Q3_height = df['Height(Centimeter)'].quantile(0.75)\n",
    "IQR_height = Q3_height - Q1_height\n",
    "\n",
    "# Definir límites para identificar outliers\n",
    "lower_bound_height = Q1_height - 1.5 * IQR_height\n",
    "upper_bound_height = Q3_height + 1.5 * IQR_height\n",
    "\n",
    "# Identificar los outliers\n",
    "outliers_height = df[(df['Height(Centimeter)'] < lower_bound_height) | \n",
    "                     (df['Height(Centimeter)'] > upper_bound_height)]\n",
    "\n",
    "# Mostrar los outliers de altura\n",
    "print(\"Outliers de Altura:\")\n",
    "print(outliers_height[['Height(Centimeter)', 'Weight(Kilograms)']])\n"
   ]
  },
  {
   "cell_type": "code",
   "execution_count": 28,
   "metadata": {},
   "outputs": [
    {
     "name": "stdout",
     "output_type": "stream",
     "text": [
      "Outliers de Peso:\n",
      "       Height(Centimeter)  Weight(Kilograms)\n",
      "156            180.292045          72.101261\n",
      "249            167.484933          38.264930\n",
      "293            175.601325          42.070454\n",
      "367            183.705221          76.307329\n",
      "446            175.686898          73.668285\n",
      "...                   ...                ...\n",
      "24187          175.797337          73.414047\n",
      "24610          169.082822          37.368261\n",
      "24750          179.887677          72.408887\n",
      "24835          165.540411          42.823376\n",
      "24889          180.366619          73.415317\n",
      "\n",
      "[191 rows x 2 columns]\n"
     ]
    }
   ],
   "source": [
    "# Cálculo de los cuartiles y el IQR para \"Weight\"\n",
    "Q1_weight = df['Weight(Kilograms)'].quantile(0.25)\n",
    "Q3_weight = df['Weight(Kilograms)'].quantile(0.75)\n",
    "IQR_weight = Q3_weight - Q1_weight\n",
    "\n",
    "# Definir límites para identificar outliers\n",
    "lower_bound_weight = Q1_weight - 1.5 * IQR_weight\n",
    "upper_bound_weight = Q3_weight + 1.5 * IQR_weight\n",
    "\n",
    "# Identificar los outliers\n",
    "outliers_weight = df[(df['Weight(Kilograms)'] < lower_bound_weight) | \n",
    "                     (df['Weight(Kilograms)'] > upper_bound_weight)]\n",
    "\n",
    "# Mostrar los outliers de peso\n",
    "print(\"Outliers de Peso:\")\n",
    "print(outliers_weight[['Height(Centimeter)', 'Weight(Kilograms)']])\n"
   ]
  }
 ],
 "metadata": {
  "kernelspec": {
   "display_name": "ds_mitic",
   "language": "python",
   "name": "python3"
  },
  "language_info": {
   "codemirror_mode": {
    "name": "ipython",
    "version": 3
   },
   "file_extension": ".py",
   "mimetype": "text/x-python",
   "name": "python",
   "nbconvert_exporter": "python",
   "pygments_lexer": "ipython3",
   "version": "3.10.15"
  }
 },
 "nbformat": 4,
 "nbformat_minor": 2
}
